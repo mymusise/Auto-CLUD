{
 "metadata": {
  "language_info": {
   "codemirror_mode": {
    "name": "ipython",
    "version": 3
   },
   "file_extension": ".py",
   "mimetype": "text/x-python",
   "name": "python",
   "nbconvert_exporter": "python",
   "pygments_lexer": "ipython3",
   "version": "3.8.6"
  },
  "orig_nbformat": 2,
  "kernelspec": {
   "name": "python386jvsc74a57bd073563c7d8b58d1601d0afed48a5e0d20ca744324ad00d30d81a04b4d2d6fe5fb",
   "display_name": "Python 3.8.6 64-bit"
  }
 },
 "nbformat": 4,
 "nbformat_minor": 2,
 "cells": [
  {
   "cell_type": "code",
   "execution_count": 1,
   "metadata": {},
   "outputs": [
    {
     "output_type": "stream",
     "name": "stdout",
     "text": [
      "Num GPUs Available:  0\n"
     ]
    }
   ],
   "source": [
    "import os\n",
    "os.environ[\"CUDA_DEVICE_ORDER\"] = \"PCI_BUS_ID\"  \n",
    "os.environ[\"CUDA_VISIBLE_DEVICES\"] = \"-1\"\n",
    "import tensorflow as tf\n",
    "print(\"Num GPUs Available: \", len(tf.config.experimental.list_physical_devices('GPU')))"
   ]
  },
  {
   "cell_type": "code",
   "execution_count": 3,
   "metadata": {},
   "outputs": [
    {
     "output_type": "stream",
     "name": "stderr",
     "text": [
      "Special tokens have been added in the vocabulary, make sure the associated word embeddings are fine-tuned or trained.\n"
     ]
    }
   ],
   "source": [
    "from run_tnews_0shot import *\n",
    "\n",
    "task_name = \"tnews\"\n",
    "train_dataset, dev_dataset, test_dataset = load_dataset(task_name)\n",
    "# train_dataset = cover_dataset2np(train_dataset)\n",
    "dev_dataset = cover_dataset2np(dev_dataset)\n",
    "# test_dataset = cover_dataset2np(test_dataset, is_test=True)\n",
    "# train_dataset = cover_np2tfds(*train_dataset)\n",
    "dev_dataset = cover_np2tfds(*dev_dataset)\n"
   ]
  },
  {
   "cell_type": "code",
   "execution_count": 18,
   "metadata": {},
   "outputs": [
    {
     "output_type": "stream",
     "name": "stderr",
     "text": [
      "All model checkpoint layers were used when initializing TFGPT2LMHeadModel.\n",
      "\n",
      "All the layers of TFGPT2LMHeadModel were initialized from the model checkpoint at /data2/Text-Suggestion/models.\n",
      "If your task is similar to the task the model of the checkpoint was trained on, you can already use TFGPT2LMHeadModel for predictions without further training.\n"
     ]
    }
   ],
   "source": [
    "from transformers import TFGPT2LMHeadModel, TFGPT2ForSequenceClassification, GPT2Config\n",
    "model_config = GPT2Config.from_pretrained(configs.MODEL_PATH)\n",
    "\n",
    "model = TFGPT2LMHeadModel.from_pretrained(configs.MODEL_PATH)"
   ]
  },
  {
   "cell_type": "code",
   "execution_count": 19,
   "metadata": {},
   "outputs": [
    {
     "output_type": "stream",
     "name": "stderr",
     "text": [
      "Special tokens have been added in the vocabulary, make sure the associated word embeddings are fine-tuned or trained.\n"
     ]
    }
   ],
   "source": [
    "tokenizer = load_tokenizer()"
   ]
  },
  {
   "cell_type": "code",
   "execution_count": 95,
   "metadata": {},
   "outputs": [],
   "source": [
    "text = [\"今天乌克兰大获全胜\", \"没有人比我了解python\"]\n",
    "ids = tokenizer(text, add_special_tokens=False, return_tensors='tf', padding=True)['input_ids']\n",
    "inputs = ids[:,:-1]\n",
    "labels = ids[:,1:]\n",
    "out = model(input_ids=inputs, return_dict=True)"
   ]
  },
  {
   "cell_type": "code",
   "execution_count": 96,
   "metadata": {},
   "outputs": [
    {
     "output_type": "execute_result",
     "data": {
      "text/plain": [
       "TFCausalLMOutputWithPast(loss=None, logits=<tf.Tensor: shape=(2, 9, 32128), dtype=float32, numpy=\n",
       "array([[[  1.9744302 ,  -6.9969406 , -16.79509   , ..., -16.795397  ,\n",
       "         -16.795376  , -16.795479  ],\n",
       "        [  4.267757  ,  -1.6535326 ,  -7.440649  , ...,  -7.441683  ,\n",
       "          -7.441577  ,  -7.4416475 ],\n",
       "        [  0.19317281,  -1.6998546 , -12.117039  , ..., -12.117353  ,\n",
       "         -12.117572  , -12.117444  ],\n",
       "        ...,\n",
       "        [  0.5127207 ,  -2.5153713 , -12.370995  , ..., -12.372408  ,\n",
       "         -12.372951  , -12.372885  ],\n",
       "        [  0.24259272,  -2.2215304 , -13.333269  , ..., -13.33473   ,\n",
       "         -13.335034  , -13.334824  ],\n",
       "        [  0.7589359 ,  -1.4690359 ,  -6.8533745 , ...,  -6.8551755 ,\n",
       "          -6.855259  ,  -6.8553395 ]],\n",
       "\n",
       "       [[  1.6760646 ,  -7.140033  , -16.826378  , ..., -16.82666   ,\n",
       "         -16.826647  , -16.826782  ],\n",
       "        [  1.1758212 ,  -2.6656957 , -11.32017   , ..., -11.32019   ,\n",
       "         -11.320143  , -11.320188  ],\n",
       "        [  1.9833513 ,  -3.1222398 ,  -8.619595  , ...,  -8.619858  ,\n",
       "          -8.620227  ,  -8.619992  ],\n",
       "        ...,\n",
       "        [  3.6652713 ,   2.015177  ,  -9.637516  , ...,  -9.636159  ,\n",
       "          -9.636086  ,  -9.636863  ],\n",
       "        [  1.0267613 ,  -0.29572624, -11.193838  , ..., -11.191914  ,\n",
       "         -11.192026  , -11.192132  ],\n",
       "        [  2.5822275 ,   1.22313   , -10.570203  , ..., -10.56928   ,\n",
       "         -10.569412  , -10.568982  ]]], dtype=float32)>, past_key_values=None, hidden_states=None, attentions=None)"
      ]
     },
     "metadata": {},
     "execution_count": 96
    }
   ],
   "source": [
    "out"
   ]
  },
  {
   "cell_type": "code",
   "execution_count": 113,
   "metadata": {},
   "outputs": [
    {
     "output_type": "stream",
     "name": "stdout",
     "text": [
      "mask tf.Tensor(\n[[ True  True  True  True  True  True False False False]\n [ True  True  True  True  True  True  True  True  True]], shape=(2, 9), dtype=bool)\nlabels tf.Tensor(\n[[28051  5749 26988 27841 27160 27840     0     0     0]\n [26977 27172 26971 26968 27320 27952 27970  6796  1149]], shape=(2, 9), dtype=int32)\nraw_loss tf.Tensor(\n[[9.3518257e+00 4.0583386e+00 4.1490216e+00 6.1921062e+00 5.2340332e-02\n  1.2677022e-03 1.0334850e+01 7.9349532e+00 7.4530206e+00]\n [4.3851023e+00 5.5624809e+00 1.8138936e+00 6.0646114e+00 1.5625546e-02\n  1.1773869e+01 4.4465199e+00 1.3087559e+00 6.4660233e-01]], shape=(2, 9), dtype=float32)\nlosses tf.Tensor(\n[[9.3518257e+00 4.0583386e+00 4.1490216e+00 6.1921062e+00 5.2340332e-02\n  1.2677022e-03 0.0000000e+00 0.0000000e+00 0.0000000e+00]\n [4.3851023e+00 5.5624809e+00 1.8138936e+00 6.0646114e+00 1.5625546e-02\n  1.1773869e+01 4.4465199e+00 1.3087559e+00 6.4660233e-01]], shape=(2, 9), dtype=float32)\n"
     ]
    }
   ],
   "source": [
    "def loss_fun(labels, logits):\n",
    "    loss_fn = tf.keras.losses.SparseCategoricalCrossentropy(\n",
    "        from_logits=True, reduction=tf.keras.losses.Reduction.NONE)\n",
    "    return loss_fn(labels, logits)\n",
    "mask = tf.not_equal(labels, 0)\n",
    "print(\"mask\", mask)\n",
    "labels = tf.cast(labels,tf.int32) * tf.cast(mask,tf.int32)\n",
    "print(\"labels\", labels)\n",
    "raw_loss = loss_fun(labels,out.logits)\n",
    "print(\"raw_loss\", raw_loss)\n",
    "mask = tf.cast(mask,tf.float32)\n",
    "losses = tf.cast(raw_loss,tf.float32) * mask\n",
    "print(\"losses\", losses)\n",
    "# losses = tf.reduce_sum(losses,axis=-1) / tf.reduce_sum(mask,axis=-1)\n",
    "# print(\"losses\", losses)"
   ]
  },
  {
   "cell_type": "code",
   "execution_count": 115,
   "metadata": {},
   "outputs": [
    {
     "output_type": "execute_result",
     "data": {
      "text/plain": [
       "(<tf.Tensor: shape=(2,), dtype=float32, numpy=array([23.804901, 36.01746 ], dtype=float32)>,\n",
       " <tf.Tensor: shape=(2,), dtype=float32, numpy=array([6., 9.], dtype=float32)>)"
      ]
     },
     "metadata": {},
     "execution_count": 115
    }
   ],
   "source": [
    "tf.reduce_sum(losses,axis=-1), tf.reduce_sum(mask,axis=-1)"
   ]
  }
 ]
}